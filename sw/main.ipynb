{
 "cells": [
  {
   "cell_type": "markdown",
   "id": "c566f0cb",
   "metadata": {},
   "source": [
    "# Main Jupyter Notebook for WULPUS\n",
    "\n",
    "Sergei Vostrikov, Cédric Hirschi\n",
    "\n",
    "ETH Zurich, 2024\n",
    "\n",
    "---\n",
    "\n",
    "If you are not familiar with Jupyter Notebooks, please first check online tutorials such as https://realpython.com/jupyter-notebook-introduction/#creating-a-notebook"
   ]
  },
  {
   "cell_type": "markdown",
   "id": "9fb4da3d",
   "metadata": {},
   "source": [
    "## Preparation\n",
    "\n",
    "First, we import the libraries we will use next to the WULPUS library."
   ]
  },
  {
   "cell_type": "code",
   "execution_count": 1,
   "id": "38248630",
   "metadata": {},
   "outputs": [],
   "source": [
    "%matplotlib widget\n",
    "import ipywidgets as wdg\n",
    "import matplotlib.pyplot as plt\n",
    "import numpy as np"
   ]
  },
  {
   "cell_type": "markdown",
   "id": "8304d151",
   "metadata": {},
   "source": [
    "Here, we test if the `matplotlib widget` backend is working. If you do not see an interactive plot after executing below cell, try:\n",
    "- Restart the kernel\n",
    "- Manually install `ipympl` via `conda install -c conda-forge ipympl` inside your `wulpus_env` environment "
   ]
  },
  {
   "cell_type": "code",
   "execution_count": null,
   "id": "a804099f",
   "metadata": {},
   "outputs": [],
   "source": [
    "plt.figure()\n",
    "plt.plot([[1, 2], [0, 0]])\n",
    "plt.show()"
   ]
  },
  {
   "cell_type": "markdown",
   "id": "d928ac55",
   "metadata": {},
   "source": [
    "## Configuration"
   ]
  },
  {
   "cell_type": "markdown",
   "id": "ca110816",
   "metadata": {},
   "source": [
    "### TX/RX Channel Configuration\n",
    "\n",
    "You can set up the TX/RX channel configuration either via\n",
    "\n",
    "- The dedicated GUI\n",
    "- The Python API directly\n",
    "- By loading a configuration file\n",
    "\n",
    "Each of the following cells demonstrates one of these methods."
   ]
  },
  {
   "cell_type": "code",
   "execution_count": null,
   "id": "c8caa750",
   "metadata": {
    "scrolled": true
   },
   "outputs": [],
   "source": [
    "# Configure the TX/RX channel configuration using the GUI\n",
    "from wulpus.trx_conf.gui import WulpusTRXConfigGUI \n",
    "\n",
    "conf_gen = WulpusTRXConfigGUI()\n",
    "\n",
    "display(conf_gen)"
   ]
  },
  {
   "cell_type": "code",
   "execution_count": 5,
   "id": "14b11667",
   "metadata": {},
   "outputs": [],
   "source": [
    "# Configure the TX/RX channel configuration using the API directly\n",
    "# UNCOMMENT THE CODE IN THIS CELL WHEN YOU ARE NOT USING THE GUI\n",
    "# from wulpus.trx_conf.gen import WulpusTRXConfigGen\n",
    "\n",
    "# # TX and RX active channels IDs\n",
    "# conf_gen = WulpusTRXConfigGen()\n",
    "\n",
    "# # The first array is a set of TX chanels, the second one - RX.\n",
    "# conf_gen.add_config([7], [7], \n",
    "#                     optimized_switching=False)\n",
    "# conf_gen.add_config([0, 1, 2, 3, 4, 5, 6, 7], [0, 1, 2, 3, 4, 5, 6, 7], \n",
    "#                     optimized_switching=True)"
   ]
  },
  {
   "cell_type": "code",
   "execution_count": 7,
   "id": "8f879ad2",
   "metadata": {},
   "outputs": [],
   "source": [
    "# Configure the TX/RX channel configuration by loading them from a file\n",
    "# UNCOMMENT THE CODE IN THIS CELL WHEN YOU ARE NOT USING THE GUI OR THE API DIRECTLY\n",
    "# from wulpus.trx_conf.gui import WulpusTRXConfigGUI\n",
    "\n",
    "# conf_gen = conf_gui.WulpusRxTxConfigGenGUI()\n",
    "\n",
    "# conf_gen.with_file(\"tx_rx_configs.json\")"
   ]
  },
  {
   "cell_type": "markdown",
   "id": "6f062c89",
   "metadata": {},
   "source": [
    "### Ultrasound Subsystem (USS) Configuration\n",
    "\n",
    "Similar to the TX/RX channel configuration, you can set up the USS configuration either via\n",
    "\n",
    "- The dedicated GUI\n",
    "- The Python API directly\n",
    "- By loading a configuration file\n",
    "\n",
    "Here, we always set up a configuration using the API first (optionally using a configuration file) and then pass it to the GUI.\n",
    "\n",
    "For this, you must have the TX/RX channel configuration set up first as `conf_gen`."
   ]
  },
  {
   "cell_type": "code",
   "execution_count": null,
   "id": "26419cf8",
   "metadata": {},
   "outputs": [],
   "source": [
    "from wulpus.config_package import PGA_GAIN\n",
    "from wulpus.uss_conf.gen import WulpusUSSConfigGen\n",
    "from wulpus.uss_conf.gui import WulpusUSSConfigGUI\n",
    "\n",
    "# Get TX/RX configuration\n",
    "tx_confs = conf_gen.get_tx_configs()\n",
    "rx_confs = conf_gen.get_rx_configs()\n",
    "\n",
    "# Create USS configuration using the API\n",
    "uss_conf = WulpusUSSConfigGen(num_acqs=1000,\n",
    "                           dcdc_turnon=100,\n",
    "                           start_hvmuxrx=500,\n",
    "                           meas_period=20000,\n",
    "                           num_txrx_configs=len(tx_confs),\n",
    "                           tx_configs=tx_confs,\n",
    "                           rx_configs=rx_confs,\n",
    "                           rx_gain=PGA_GAIN[19],\n",
    "                           pulse_freq=1000000,\n",
    "                           num_pulses=10,\n",
    "                           sampling_freq=4000000)\n",
    "\n",
    "# Optionally, modify the configuration using the GUI\n",
    "uss_conf = WulpusUSSConfigGUI(uss_conf)\n",
    "\n",
    "# or load the configuration from a file\n",
    "# uss_conf.with_file('uss_config.json')\n",
    "\n",
    "display(uss_conf)"
   ]
  },
  {
   "cell_type": "markdown",
   "id": "58156a26",
   "metadata": {},
   "source": [
    "## Connect\n",
    "\n",
    "We initialize a `WulpusConnection` object here such that it can run independently from the main GUI.\n",
    "\n",
    "The connection can be of different types:\n",
    "- nRF52 Dongle which is paired with the probe (via `'dongle'`, default)\n",
    "- Direct BLE connection (via `'direct'`) "
   ]
  },
  {
   "cell_type": "code",
   "execution_count": 5,
   "id": "a1d75de2",
   "metadata": {},
   "outputs": [],
   "source": [
    "from wulpus.connection.connection import WulpusConnection\n",
    "\n",
    "# Open a connection\n",
    "connection = WulpusConnection('direct') # direct connection via dongle\n",
    "# connection = WulpusConnection() # connection via serial port and dongle\n",
    "\n",
    "# # Optionally, get the available devices\n",
    "# connection.get_available()"
   ]
  },
  {
   "cell_type": "markdown",
   "id": "250c7a75",
   "metadata": {},
   "source": [
    "## Make Measurement\n",
    "\n",
    "Finally, we can make a measurement using the main GUI. Check the WULPUS user manual (chapter 3 and 4) for more information on how to use the GUI."
   ]
  },
  {
   "cell_type": "code",
   "execution_count": null,
   "id": "efbda2f1",
   "metadata": {},
   "outputs": [],
   "source": [
    "from wulpus.gui import WulpusGuiSingleCh\n",
    "\n",
    "# If the GUI is already open and the port is opened, close it\n",
    "if 'gui' in globals():\n",
    "    if gui.port_opened:\n",
    "        gui.com_link.close()\n",
    "\n",
    "# Create the GUI\n",
    "gui = WulpusGuiSingleCh(connection, uss_conf, max_vis_fps=20)\n",
    "display(gui)"
   ]
  },
  {
   "cell_type": "markdown",
   "id": "7598496b",
   "metadata": {},
   "source": [
    "## Loading and interpreting the saved data\n",
    "\n",
    "The data is saved in a `.npz` file. This is a compressed file format that can be used with the numpy library.\n",
    "\n",
    "Here, we go through the process of loading the data and plotting it."
   ]
  },
  {
   "cell_type": "code",
   "execution_count": null,
   "id": "6e65c319",
   "metadata": {},
   "outputs": [],
   "source": [
    "# Load the data\n",
    "data = np.load('examples/data_0.npz')\n",
    "\n",
    "print('Keys:', data.files)"
   ]
  },
  {
   "cell_type": "markdown",
   "id": "687866e5",
   "metadata": {},
   "source": [
    "The structure is a dictionary with the length `num_acquisitions` (Number of acquisitions) and consists of the following keys:\n",
    "\n",
    "**data_arr:** This column actually contains the data, each of length `num_samples` (Number of samples). This can be seen as data for one acquisition.\n",
    "\n",
    "**acq_num_arr:** The sequential number for each acquisition. MSP430 increments this number by 1 every new acquisition, starting from zero. If one number is missing (a step is larger than one), then this acquisition got dropped during the BLE transmission.\n",
    "\n",
    "**tx_rx_id_arr:** The TX/RX configuration ID for the acquisition. This ids  are the same as the ones in the `Active RX ID` dropdown menu in the GUI (the same as Config field in the RX/TX config GUI)."
   ]
  },
  {
   "cell_type": "code",
   "execution_count": null,
   "id": "0b453f1c",
   "metadata": {},
   "outputs": [],
   "source": [
    "print('Data shape:', data['data_arr'].shape)\n",
    "print('Unique IDs:', np.unique(data['tx_rx_id_arr']))"
   ]
  },
  {
   "cell_type": "markdown",
   "id": "9f76d3a3",
   "metadata": {},
   "source": [
    "In `examples/example_0.npz`, we have 100 acquisitions, each containing 400 samples. The WULPUS system was connected to the 8 channels of the linear array transducer (2.25 MHz), placed on the forearm, while the proband was performing periodic hand gestures. There was only one TX/RX configuration programmed (config id = 0). With this configuration, 8 channel were used at both transmit and receive. The data was acquired with the settings saved in the files `./examples/tx_rx_configs.json` and `./examples/uss_config.json`.\n",
    "\n",
    "Since the `data_arr` is a bit awkward to use in this form (`(400, 100)`), we transpose it to `(100, 400)`."
   ]
  },
  {
   "cell_type": "code",
   "execution_count": null,
   "id": "516ddc22",
   "metadata": {},
   "outputs": [],
   "source": [
    "# Transpose the data such that we can index via time\n",
    "data_meas = data['data_arr'].T\n",
    "\n",
    "print('Data shape:', data_meas.shape)"
   ]
  },
  {
   "cell_type": "markdown",
   "id": "21cad09e",
   "metadata": {},
   "source": [
    "The data can then be easily used further, for example to just make a plot of one acquisition. \n",
    "\n",
    "As a general example, we show how to select the data only for the TX/RX config with ID **n = 0**."
   ]
  },
  {
   "cell_type": "code",
   "execution_count": null,
   "id": "46422e6f",
   "metadata": {},
   "outputs": [],
   "source": [
    "channel_id = 0\n",
    "\n",
    "data_sel = data_meas[data['tx_rx_id_arr'] == channel_id, :]\n",
    "\n",
    "print('Data shape:', data_sel.shape)"
   ]
  },
  {
   "cell_type": "markdown",
   "id": "530d78d5",
   "metadata": {},
   "source": [
    "\n",
    "We visualize the data with `matplotlib` and `ipywidgets`.\n",
    "By interacting with the slider, a user can see the data over time."
   ]
  },
  {
   "cell_type": "code",
   "execution_count": null,
   "id": "696302a8",
   "metadata": {},
   "outputs": [],
   "source": [
    "plt.figure(figsize=(10, 5))\n",
    "plot_data = plt.plot(data_sel[0], linestyle='-', marker='o', linewidth=1, markersize=2)\n",
    "plt.ylim(-2500, 2500)\n",
    "plt.title(f'Acquisition 0/{data_sel.shape[0]}')\n",
    "plt.xlabel('Samples')\n",
    "plt.ylabel('ADC digital code')\n",
    "plt.grid()\n",
    "plt.show()\n",
    "\n",
    "def visualize(frame):\n",
    "    plot_data[0].set_ydata(data_sel[frame])\n",
    "    plt.title(f'Acquisition {frame}/{data_sel.shape[0]}')\n",
    "    plt.draw()\n",
    "\n",
    "wdg.interact(visualize, frame=wdg.IntSlider(min=0, max=data_sel.shape[0]-1, step=1, value=10))"
   ]
  },
  {
   "cell_type": "markdown",
   "id": "a10065e0",
   "metadata": {},
   "source": [
    "With this data, you can now perform further analysis, such as filtering, envelope extraction, etc."
   ]
  },
  {
   "cell_type": "markdown",
   "id": "7e139fb4",
   "metadata": {},
   "source": [
    "---\n",
    "```text\n",
    "   Copyright (C) 2024 ETH Zurich. All rights reserved.\n",
    "   Author: Sergei Vostrikov, ETH Zurich\n",
    "           Cedric Hirschi, ETH Zurich\n",
    "   Licensed under the Apache License, Version 2.0 (the \"License\");\n",
    "   you may not use this file except in compliance with the License.\n",
    "   You may obtain a copy of the License at\n",
    "       http://www.apache.org/licenses/LICENSE-2.0\n",
    "   Unless required by applicable law or agreed to in writing, software\n",
    "   distributed under the License is distributed on an \"AS IS\" BASIS,\n",
    "   WITHOUT WARRANTIES OR CONDITIONS OF ANY KIND, either express or implied.\n",
    "   See the License for the specific language governing permissions and\n",
    "   limitations under the License.\n",
    "\n",
    "   SPDX-License-Identifier: Apache-2.0\n",
    "```"
   ]
  }
 ],
 "metadata": {
  "kernelspec": {
   "display_name": "wulpus_env",
   "language": "python",
   "name": "python3"
  },
  "language_info": {
   "codemirror_mode": {
    "name": "ipython",
    "version": 3
   },
   "file_extension": ".py",
   "mimetype": "text/x-python",
   "name": "python",
   "nbconvert_exporter": "python",
   "pygments_lexer": "ipython3",
   "version": "3.9.20"
  }
 },
 "nbformat": 4,
 "nbformat_minor": 5
}
