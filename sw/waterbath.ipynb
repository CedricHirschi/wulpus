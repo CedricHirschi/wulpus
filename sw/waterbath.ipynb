{
 "cells": [
  {
   "cell_type": "markdown",
   "metadata": {},
   "source": [
    "# WULPUS Example: Waterbath Measurement\n",
    "\n",
    "Cédric Hirschi\n",
    "\n",
    "ETH Zurich, 2025\n",
    "\n",
    "---\n",
    "\n",
    "In this notebook, we show how you could analyze the data acquired during the waterbath experiment.\n",
    "\n",
    "For this, we will need:\n",
    "- The data file in `.npz` format\n",
    "- The USS configuration file in `.json` format\n",
    "\n",
    "For this example, you have the following files available:\n",
    "- `examples/waterbath_0.npz`\n",
    "- `examples/trx_waterbath.json`\n",
    "- `examples/uss_waterbath.json`"
   ]
  },
  {
   "cell_type": "markdown",
   "metadata": {},
   "source": [
    "## Preparation\n",
    "\n",
    "First, we need to import the necessary libraries."
   ]
  },
  {
   "cell_type": "code",
   "execution_count": 160,
   "metadata": {},
   "outputs": [],
   "source": [
    "%matplotlib widget\n",
    "import matplotlib.pyplot as plt\n",
    "import matplotlib.gridspec as pltgs\n",
    "import numpy as np\n",
    "import json\n",
    "import scipy.signal as ss"
   ]
  },
  {
   "cell_type": "markdown",
   "metadata": {},
   "source": [
    "Then, we load the data and the USS configuration."
   ]
  },
  {
   "cell_type": "code",
   "execution_count": null,
   "metadata": {},
   "outputs": [],
   "source": [
    "file = np.load('./examples/waterbath_0.npz')\n",
    "\n",
    "data = file['data_arr'].T\n",
    "\n",
    "\n",
    "data = data[file['tx_rx_id_arr'] == 0]\n",
    "\n",
    "data.shape"
   ]
  },
  {
   "cell_type": "code",
   "execution_count": null,
   "metadata": {},
   "outputs": [],
   "source": [
    "uss_config = json.load(open('./examples/uss_waterbath.json'))\n",
    "\n",
    "frame_period = uss_config['meas_period'] / 1e6\n",
    "sampling_freq = uss_config['sampling_freq']\n",
    "central_freq = uss_config['pulse_freq']\n",
    "\n",
    "assert uss_config['num_samples'] == data.shape[1]\n",
    "assert uss_config['num_acqs'] == data.shape[0]\n",
    "\n",
    "samples_per_frame = uss_config['num_samples']\n",
    "num_frames = uss_config['num_acqs']\n",
    "\n",
    "print('Measurement statistics:')\n",
    "print(f'  {num_frames} frames at {1/frame_period:.2f} FPS')\n",
    "print(f'  {samples_per_frame} samples per frame')\n",
    "print(f'  {central_freq/1e6:.2f} MHz central frequency')\n",
    "print(f'  {sampling_freq/1e6:.2f} MS/s sampling frequency')"
   ]
  },
  {
   "cell_type": "markdown",
   "metadata": {},
   "source": [
    "## Analysis\n",
    "\n",
    "Here, we define a helper function to plot the data and plot the raw data."
   ]
  },
  {
   "cell_type": "code",
   "execution_count": null,
   "metadata": {},
   "outputs": [],
   "source": [
    "def plot_waterbath(data, ref_times=[], lines=[]):\n",
    "\n",
    "    fig = plt.figure(figsize=(12, 6))\n",
    "    gs = fig.add_gridspec(1, 2)\n",
    "\n",
    "    times = np.arange(num_frames) * frame_period\n",
    "    depths = np.arange(samples_per_frame) / sampling_freq * 1540 / 2\n",
    "\n",
    "    ax_mmode = fig.add_subplot(gs[0, 0])\n",
    "    ax_mmode.imshow(data.T, aspect='auto', cmap='gray', extent=[0, times[-1], depths[-1]*1e2, 0])\n",
    "    ax_mmode.set_xlabel('Time [s]')\n",
    "    ax_mmode.set_ylabel('Depth [cm]')\n",
    "    ax_mmode.set_title('M-Mode')\n",
    "    \n",
    "\n",
    "    for line in lines:\n",
    "        ax_mmode.plot(times, depths[line]*1e2, 'r--')\n",
    "\n",
    "    for ref_time in ref_times:\n",
    "        ax_mmode.axvline(ref_time, color='g', linestyle='--')\n",
    "\n",
    "    if ref_times:\n",
    "        gs_ref_times = pltgs.GridSpecFromSubplotSpec(len(ref_times), 1, subplot_spec=gs[0, 1])\n",
    "\n",
    "        for i, ref_time in enumerate(ref_times):\n",
    "            ax = fig.add_subplot(gs_ref_times[i])\n",
    "\n",
    "            ref_frame = int(ref_time / frame_period)\n",
    "\n",
    "            ax.plot(depths*1e2, data[ref_frame], 'b')\n",
    "            for line in lines:\n",
    "                ax.plot(depths[line[ref_frame]]*1e2, data[ref_frame][line[ref_frame]], 'ro')\n",
    "\n",
    "            ax.set_ylim(-2500, 2500)\n",
    "            ax.grid()\n",
    "            ax.annotate(f'Frame {ref_frame}', xy=(0.82, 0.1), xycoords='axes fraction')\n",
    "            if i == 0:\n",
    "                ax.set_title('Reference frames')\n",
    "            if i == len(ref_times) - 1:\n",
    "                ax.set_xlabel('Depth [cm]')\n",
    "            else:\n",
    "                ax.set_xticklabels([])\n",
    "\n",
    "    plt.tight_layout()\n",
    "    plt.show()\n",
    "\n",
    "plot_waterbath(data)"
   ]
  },
  {
   "cell_type": "markdown",
   "metadata": {},
   "source": [
    "### Reference Frames\n",
    "\n",
    "From this raw plot, we can get some key reference frames, which we list here for use later in the analysis."
   ]
  },
  {
   "cell_type": "code",
   "execution_count": 194,
   "metadata": {},
   "outputs": [],
   "source": [
    "ref_times = [4.0, 5.15, 6.3, 7.45, 8.6]"
   ]
  },
  {
   "cell_type": "markdown",
   "metadata": {},
   "source": [
    "### Filtering\n",
    "\n",
    "Now, we filter the data. We only need the data around the central frequency, which is why we apply a bandpass filter.\n",
    "\n",
    "This already gives us a clearer image of the data."
   ]
  },
  {
   "cell_type": "code",
   "execution_count": null,
   "metadata": {},
   "outputs": [],
   "source": [
    "def filter_data(data, central_freq, sampling_freq, filter_width=None, filter_order=5):\n",
    "    if filter_width is None:\n",
    "        filter_width = central_freq * 0.9\n",
    "    b, a = ss.butter(filter_order, [central_freq - filter_width / 2, central_freq + filter_width / 2], btype='band', fs=sampling_freq)\n",
    "    return ss.filtfilt(b, a, data, axis=1)\n",
    "\n",
    "filtered_data = filter_data(data, central_freq, sampling_freq)\n",
    "\n",
    "plot_waterbath(filtered_data, ref_times=ref_times)"
   ]
  },
  {
   "cell_type": "markdown",
   "metadata": {},
   "source": [
    "### Envelope Extraction\n",
    "\n",
    "To extract the envelope, we use the Hilbert transform. This gives us the envelope of the signal."
   ]
  },
  {
   "cell_type": "code",
   "execution_count": null,
   "metadata": {},
   "outputs": [],
   "source": [
    "def envelope_data(data):\n",
    "    return np.abs(ss.hilbert(data, axis=1))\n",
    "\n",
    "enveloped_data = envelope_data(filtered_data)\n",
    "\n",
    "plot_waterbath(enveloped_data, ref_times=ref_times)"
   ]
  },
  {
   "cell_type": "markdown",
   "metadata": {},
   "source": [
    "### Peak Detection\n",
    "\n",
    "Finally, we can detect the peaks in the envelope for each frame. This gives us the distance of the metal object in the waterbath."
   ]
  },
  {
   "cell_type": "code",
   "execution_count": null,
   "metadata": {},
   "outputs": [],
   "source": [
    "MIN_DEPTH = 9e-3\n",
    "\n",
    "def get_peak(data, min_depth=MIN_DEPTH):\n",
    "    min_idx = int(min_depth * sampling_freq / 1540 * 2)\n",
    "\n",
    "    return np.argmax(data[:, min_idx:], axis=1) + min_idx\n",
    "\n",
    "maxima = get_peak(enveloped_data)\n",
    "\n",
    "plot_waterbath(enveloped_data, ref_times=ref_times, lines=[maxima])"
   ]
  },
  {
   "cell_type": "markdown",
   "metadata": {},
   "source": [
    "Since this distance is quite noisy, we apply a moving average filter to smooth the data."
   ]
  },
  {
   "cell_type": "code",
   "execution_count": null,
   "metadata": {},
   "outputs": [],
   "source": [
    "FILTER_WIDTH = 100e-3\n",
    "\n",
    "def filter_maxima(maxima, filter_width=FILTER_WIDTH):\n",
    "    filter_width = int(filter_width / frame_period) // 2 * 2 + 1\n",
    "    return np.convolve(maxima, np.ones(filter_width) / filter_width, mode='same').astype(int)\n",
    "\n",
    "maxima_filtered = filter_maxima(maxima)\n",
    "\n",
    "plot_waterbath(enveloped_data, ref_times=ref_times, lines=[maxima_filtered])"
   ]
  },
  {
   "cell_type": "markdown",
   "metadata": {},
   "source": [
    "We still get some artifact at the start of each frame. To omit this, we apply TGC (Time Gain Compensation) to the data."
   ]
  },
  {
   "cell_type": "code",
   "execution_count": null,
   "metadata": {},
   "outputs": [],
   "source": [
    "print(data)"
   ]
  },
  {
   "cell_type": "code",
   "execution_count": null,
   "metadata": {},
   "outputs": [],
   "source": [
    "ALPHA = 1\n",
    "\n",
    "def apply_gain(data, alpha=ALPHA):\n",
    "    depths = np.arange(samples_per_frame) / sampling_freq * 1540 / 2\n",
    "    gain = np.exp(alpha * depths)\n",
    "    return data * gain\n",
    "\n",
    "enveloped_data_gained = envelope_data(filter_data(apply_gain(data), central_freq, sampling_freq))\n",
    "maxima_filtered_gained = filter_maxima(get_peak(enveloped_data_gained))\n",
    "\n",
    "plot_waterbath(enveloped_data_gained, ref_times=ref_times, lines=[maxima_filtered_gained])"
   ]
  },
  {
   "cell_type": "markdown",
   "metadata": {},
   "source": [
    "---\n",
    "```text\n",
    "   Copyright (C) 2025 ETH Zurich. All rights reserved.\n",
    "   Author: Cedric Hirschi, ETH Zurich\n",
    "   Licensed under the Apache License, Version 2.0 (the \"License\");\n",
    "   you may not use this file except in compliance with the License.\n",
    "   You may obtain a copy of the License at\n",
    "       http://www.apache.org/licenses/LICENSE-2.0\n",
    "   Unless required by applicable law or agreed to in writing, software\n",
    "   distributed under the License is distributed on an \"AS IS\" BASIS,\n",
    "   WITHOUT WARRANTIES OR CONDITIONS OF ANY KIND, either express or implied.\n",
    "   See the License for the specific language governing permissions and\n",
    "   limitations under the License.\n",
    "\n",
    "   SPDX-License-Identifier: Apache-2.0\n",
    "```"
   ]
  }
 ],
 "metadata": {
  "kernelspec": {
   "display_name": "wulpus_env",
   "language": "python",
   "name": "python3"
  },
  "language_info": {
   "codemirror_mode": {
    "name": "ipython",
    "version": 3
   },
   "file_extension": ".py",
   "mimetype": "text/x-python",
   "name": "python",
   "nbconvert_exporter": "python",
   "pygments_lexer": "ipython3",
   "version": "3.9.20"
  }
 },
 "nbformat": 4,
 "nbformat_minor": 2
}
